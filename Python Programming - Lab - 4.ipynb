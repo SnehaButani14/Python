{
 "cells": [
  {
   "cell_type": "markdown",
   "metadata": {},
   "source": [
    "\n",
    "<a href='https://www.darshan.ac.in/'> <img src='https://www.darshan.ac.in/Content/media/DU_Logo.svg' width=\"250\" height=\"300\"/></a>\n",
    "<pre>\n",
    "<center><b><h1>Python Programming - 2301CS404</b></center>\n",
    "<center><b><h1>Lab - 4</b></center>         \n",
    "<pre>"
   ]
  },
  {
   "cell_type": "markdown",
   "metadata": {},
   "source": [
    "# String"
   ]
  },
  {
   "cell_type": "markdown",
   "metadata": {},
   "source": [
    "### 01) WAP to check whether the given string is palindrome or not."
   ]
  },
  {
   "cell_type": "code",
   "execution_count": 10,
   "metadata": {},
   "outputs": [
    {
     "name": "stdout",
     "output_type": "stream",
     "text": [
      "Enter string:  abba\n"
     ]
    },
    {
     "name": "stdout",
     "output_type": "stream",
     "text": [
      "abba\n",
      "String is pallindrom\n"
     ]
    }
   ],
   "source": [
    "str = input('Enter string: ')\n",
    "rev = ''\n",
    "for i in range(len(str) - 1 , -1 , -1):#length-1 bcz string index start from 0 ,-1 for -1+1=0 , -1 is for i--\n",
    "    rev += str[i]\n",
    "print(rev)\n",
    "if(str==rev):\n",
    "    print('String is pallindrom')\n",
    "else:\n",
    "    print('String is not pallindrom')"
   ]
  },
  {
   "cell_type": "markdown",
   "metadata": {},
   "source": [
    "### 02) WAP to reverse the words in the given string."
   ]
  },
  {
   "cell_type": "code",
   "execution_count": 68,
   "metadata": {},
   "outputs": [
    {
     "name": "stdout",
     "output_type": "stream",
     "text": [
      "Enter string:  I am doing BTech CSE\n"
     ]
    },
    {
     "name": "stdout",
     "output_type": "stream",
     "text": [
      "CSE BTech doing am I\n"
     ]
    }
   ],
   "source": [
    "str = input('Enter string: ')\n",
    "rev_words = ' '.join(str.split()[::-1])\n",
    "print(rev_words)"
   ]
  },
  {
   "cell_type": "markdown",
   "metadata": {},
   "source": [
    "### 03) WAP to remove ith character from given string."
   ]
  },
  {
   "cell_type": "code",
   "execution_count": 14,
   "metadata": {},
   "outputs": [
    {
     "name": "stdout",
     "output_type": "stream",
     "text": [
      "Enter index:  2\n",
      "Enter string snhea\n"
     ]
    },
    {
     "name": "stdout",
     "output_type": "stream",
     "text": [
      "snea\n"
     ]
    }
   ],
   "source": [
    "n = int(input('Enter index: ')) \n",
    "str = input('Enter string')\n",
    "removedStr = ''\n",
    "for i in str:\n",
    "    if str.index(i)!=n:\n",
    "        removedStr += i\n",
    "print(removedStr)"
   ]
  },
  {
   "cell_type": "markdown",
   "metadata": {},
   "source": [
    "### 04) WAP to find length of string without using len function."
   ]
  },
  {
   "cell_type": "code",
   "execution_count": 99,
   "metadata": {},
   "outputs": [
    {
     "name": "stdout",
     "output_type": "stream",
     "text": [
      "Enter string sneha\n"
     ]
    },
    {
     "name": "stdout",
     "output_type": "stream",
     "text": [
      "5\n"
     ]
    }
   ],
   "source": [
    "str = input('Enter string')\n",
    "length = 0\n",
    "for i in str:\n",
    "    length=length+1\n",
    "print(length)\n",
    "    "
   ]
  },
  {
   "cell_type": "markdown",
   "metadata": {},
   "source": [
    "### 05) WAP to print even length word in string."
   ]
  },
  {
   "cell_type": "code",
   "execution_count": 102,
   "metadata": {},
   "outputs": [
    {
     "name": "stdout",
     "output_type": "stream",
     "text": [
      "Enter string Fly me to the moon\n"
     ]
    },
    {
     "name": "stdout",
     "output_type": "stream",
     "text": [
      "me\n",
      "to\n",
      "moon\n"
     ]
    }
   ],
   "source": [
    "str = input('Enter string')\n",
    "length = 0\n",
    "words = str.split(' ')\n",
    "for word in words:\n",
    "    if(len(word)) % 2 == 0:\n",
    "        print(word)"
   ]
  },
  {
   "cell_type": "markdown",
   "metadata": {},
   "source": [
    "### 06) WAP to count numbers of vowels in given string."
   ]
  },
  {
   "cell_type": "code",
   "execution_count": 108,
   "metadata": {},
   "outputs": [
    {
     "name": "stdout",
     "output_type": "stream",
     "text": [
      "Enter string sneha\n"
     ]
    },
    {
     "name": "stdout",
     "output_type": "stream",
     "text": [
      "2\n"
     ]
    }
   ],
   "source": [
    "str = input('Enter string')\n",
    "count = 0\n",
    "for i in str:\n",
    "    if i in 'aeiou':\n",
    "        count=count+1\n",
    "print(count)"
   ]
  },
  {
   "cell_type": "markdown",
   "metadata": {},
   "source": [
    "### 07) WAP to capitalize the first and last character of each word in a string."
   ]
  },
  {
   "cell_type": "code",
   "execution_count": 34,
   "metadata": {},
   "outputs": [
    {
     "name": "stdout",
     "output_type": "stream",
     "text": [
      "Enter string you are doing btech cse\n"
     ]
    },
    {
     "name": "stdout",
     "output_type": "stream",
     "text": [
      "YoU ArE DoinG BtecH CsE\n"
     ]
    }
   ],
   "source": [
    "str = input('Enter string')\n",
    "words = str.split(' ')\n",
    "result = []\n",
    "for word in words:\n",
    "    word = word[0].capitalize() + word[1:-1] + word[-1].capitalize() \n",
    "    result.append(word)\n",
    "print(' '.join(result))"
   ]
  },
  {
   "cell_type": "markdown",
   "metadata": {},
   "source": [
    "### 08) WAP to convert given array to string."
   ]
  },
  {
   "cell_type": "code",
   "execution_count": 78,
   "metadata": {},
   "outputs": [
    {
     "name": "stdout",
     "output_type": "stream",
     "text": [
      "Enter value: hello\n",
      "Enter value: heyy\n",
      "Enter value: how\n",
      "Enter value: are\n",
      "Enter value: you\n"
     ]
    },
    {
     "name": "stdout",
     "output_type": "stream",
     "text": [
      "String is: helloheyyhowareyou\n"
     ]
    }
   ],
   "source": [
    " list = [] \n",
    "for i in range (0,5):\n",
    "    a = (input('Enter value:'))\n",
    "    list.append(a)\n",
    "result = ''\n",
    "for i in list:\n",
    "    result+=i\n",
    "print('String is:',result)"
   ]
  },
  {
   "cell_type": "markdown",
   "metadata": {},
   "source": [
    "### 09) Check if the password and confirm password is same or not. \n",
    "### In case of only case's mistake, show the error message."
   ]
  },
  {
   "cell_type": "code",
   "execution_count": 88,
   "metadata": {},
   "outputs": [
    {
     "name": "stdout",
     "output_type": "stream",
     "text": [
      "Enter password: sneha\n",
      "Confirm password: misri\n"
     ]
    },
    {
     "name": "stdout",
     "output_type": "stream",
     "text": [
      "Enter same password\n"
     ]
    }
   ],
   "source": [
    "password = input('Enter password:')\n",
    "cPassword = input('Confirm password:')\n",
    "if(password == cPassword):\n",
    "    print('Correct')\n",
    "elif(password.lower() == cPassword.lower()):\n",
    "    print('Check case of password')\n",
    "else:\n",
    "    print('Enter same password')    "
   ]
  },
  {
   "cell_type": "markdown",
   "metadata": {},
   "source": [
    "### 10) : Display credit card number. \n",
    "### card no. : 1234 5678 9012 3456\n",
    "### display as  : **** **** **** 3456"
   ]
  },
  {
   "cell_type": "code",
   "execution_count": 21,
   "metadata": {},
   "outputs": [
    {
     "name": "stdout",
     "output_type": "stream",
     "text": [
      "Enter card no:  1234 1234 1234 1234\n"
     ]
    },
    {
     "name": "stdout",
     "output_type": "stream",
     "text": [
      "**** **** **** 1234\n"
     ]
    }
   ],
   "source": [
    "cardNo = input('Enter card no: ')\n",
    "cn = '**** **** **** ' + cardNo[-4::]\n",
    "print(cn)"
   ]
  },
  {
   "cell_type": "markdown",
   "metadata": {},
   "source": [
    "### 11) : Checking if the two strings are Anagram or not.\n",
    "### s1 = decimal and s2 = medical are Anagram"
   ]
  },
  {
   "cell_type": "code",
   "execution_count": 13,
   "metadata": {},
   "outputs": [
    {
     "name": "stdout",
     "output_type": "stream",
     "text": [
      "Enter string:  aabbcc\n",
      "Enter string:  bbaacc\n"
     ]
    },
    {
     "name": "stdout",
     "output_type": "stream",
     "text": [
      "Strings are anagram\n"
     ]
    }
   ],
   "source": [
    "s1 = input('Enter string: ')\n",
    "s2 = input('Enter string: ')\n",
    "if len(s1)==len(s2):\n",
    "    for char in s1:\n",
    "        if s1.count(char)!=s2.count(char):\n",
    "            print('Strings are not anagram')         \n",
    "    else:\n",
    "        print('Strings are anagram')\n",
    "else:\n",
    "    print('Strings are not anagram')"
   ]
  },
  {
   "cell_type": "markdown",
   "metadata": {},
   "source": [
    "### 12) : Rearrange the given string. First lowercase then uppercase alphabets.\n",
    "### input : EHlsarwiwhtwMV\n",
    "### output : lsarwiwhtwEHMV"
   ]
  },
  {
   "cell_type": "code",
   "execution_count": 3,
   "metadata": {},
   "outputs": [
    {
     "name": "stdout",
     "output_type": "stream",
     "text": [
      "Enter string:  SERDTFGYBHUJNesdrtfgyhujSDRTFGVBHNJderftgyhujESDffTYghJouhIU\n"
     ]
    },
    {
     "name": "stdout",
     "output_type": "stream",
     "text": [
      "esdrtfgyhujderftgyhujffghouhSERDTFGYBHUJNSDRTFGVBHNJESDTYJIU\n"
     ]
    }
   ],
   "source": [
    "s = input('Enter string: ')\n",
    "u = ''\n",
    "l = ''\n",
    "for i in s:\n",
    "    if i.isupper():\n",
    "        u+=i\n",
    "    elif i.islower():\n",
    "        l+=i\n",
    "print(l+u)"
   ]
  },
  {
   "cell_type": "code",
   "execution_count": null,
   "metadata": {},
   "outputs": [],
   "source": []
  }
 ],
 "metadata": {
  "kernelspec": {
   "display_name": "Python 3 (ipykernel)",
   "language": "python",
   "name": "python3"
  },
  "language_info": {
   "codemirror_mode": {
    "name": "ipython",
    "version": 3
   },
   "file_extension": ".py",
   "mimetype": "text/x-python",
   "name": "python",
   "nbconvert_exporter": "python",
   "pygments_lexer": "ipython3",
   "version": "3.12.7"
  },
  "vscode": {
   "interpreter": {
    "hash": "31f2aee4e71d21fbe5cf8b01ff0e069b9275f58929596ceb00d14d90e3e16cd6"
   }
  }
 },
 "nbformat": 4,
 "nbformat_minor": 4
}
