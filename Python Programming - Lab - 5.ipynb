{
 "cells": [
  {
   "cell_type": "code",
   "execution_count": null,
   "metadata": {
    "vscode": {
     "languageId": "plaintext"
    }
   },
   "outputs": [],
   "source": [
    "\n",
    "<a href='https://www.darshan.ac.in/'> <img src='https://www.darshan.ac.in/Content/media/DU_Logo.svg' width=\"250\" height=\"300\"/></a>\n",
    "<pre>\n",
    "<center><b><h1>Python Programming - 2301CS404</b></center>\n",
    "<center><b><h1>Lab - 5</b></center>\n",
    "<pre>"
   ]
  },
  {
   "cell_type": "markdown",
   "metadata": {},
   "source": [
    "# List"
   ]
  },
  {
   "cell_type": "markdown",
   "metadata": {},
   "source": [
    "### 01) WAP to find sum of all the elements in a List."
   ]
  },
  {
   "cell_type": "code",
   "execution_count": 56,
   "metadata": {
    "jp-MarkdownHeadingCollapsed": true
   },
   "outputs": [
    {
     "name": "stdout",
     "output_type": "stream",
     "text": [
      "Enter length 2\n",
      "Enter elements in list:  6\n",
      "Enter elements in list:  9\n"
     ]
    },
    {
     "name": "stdout",
     "output_type": "stream",
     "text": [
      "15\n"
     ]
    }
   ],
   "source": [
    "length = int(input('Enter length'))\n",
    "li = [int(input('Enter elements in list: ')) for i in range (length)]\n",
    "total =0\n",
    "for i in li:\n",
    "    total = total + i\n",
    "print(total)"
   ]
  },
  {
   "cell_type": "markdown",
   "metadata": {},
   "source": [
    "### 02) WAP to find largest element in a List."
   ]
  },
  {
   "cell_type": "code",
   "execution_count": 46,
   "metadata": {},
   "outputs": [
    {
     "name": "stdout",
     "output_type": "stream",
     "text": [
      "Enter length 3\n",
      "Enter elements in list:  6\n",
      "Enter elements in list:  2\n",
      "Enter elements in list:  9\n"
     ]
    },
    {
     "name": "stdout",
     "output_type": "stream",
     "text": [
      "9\n"
     ]
    }
   ],
   "source": [
    "length = int(input('Enter length'))\n",
    "li = [int(input('Enter elements in list: ')) for i in range (length)]\n",
    "maxElement = max(li)\n",
    "print(maxElement)"
   ]
  },
  {
   "cell_type": "markdown",
   "metadata": {},
   "source": [
    "### 03) WAP to find the length of a List."
   ]
  },
  {
   "cell_type": "code",
   "execution_count": 50,
   "metadata": {},
   "outputs": [
    {
     "name": "stdout",
     "output_type": "stream",
     "text": [
      "5\n"
     ]
    }
   ],
   "source": [
    "li = [1,5,9,8,7]\n",
    "length = 0\n",
    "for i in li:\n",
    "    length = length+1\n",
    "print(length)"
   ]
  },
  {
   "cell_type": "markdown",
   "metadata": {},
   "source": [
    "### 04) WAP to interchange first and last elements in a list."
   ]
  },
  {
   "cell_type": "code",
   "execution_count": 75,
   "metadata": {},
   "outputs": [
    {
     "name": "stdout",
     "output_type": "stream",
     "text": [
      "Enter size of list 5\n",
      "Enter elements 11\n",
      "Enter elements 66\n",
      "Enter elements 99\n",
      "Enter elements 33\n",
      "Enter elements 22\n"
     ]
    },
    {
     "name": "stdout",
     "output_type": "stream",
     "text": [
      "[22, 66, 99, 33, 11]\n"
     ]
    }
   ],
   "source": [
    "length = int(input('Enter size of list'))\n",
    "li = [int(input('Enter elements')) for i in range(length)]\n",
    "temp = li[0]\n",
    "li[0] = li[length-1]\n",
    "li[length-1] = temp\n",
    "print(li)"
   ]
  },
  {
   "cell_type": "markdown",
   "metadata": {},
   "source": [
    "### 05) WAP to split the List into two parts and append the first part to the end."
   ]
  },
  {
   "cell_type": "code",
   "execution_count": 97,
   "metadata": {},
   "outputs": [
    {
     "name": "stdout",
     "output_type": "stream",
     "text": [
      "Enter index:  4\n"
     ]
    },
    {
     "name": "stdout",
     "output_type": "stream",
     "text": [
      "Original list: [1, 5, 9, 10, 11, 5, 6]\n",
      "First part: [1, 5, 9, 10]\n",
      "Second part: [11, 5, 6]\n",
      "Modified list: [11, 5, 6, 1, 5, 9, 10]\n"
     ]
    }
   ],
   "source": [
    "l1 = [1,5,9,10,11,5,6]\n",
    "index = int(input('Enter index: '))\n",
    "firstPart = l1[:index]\n",
    "secondPart = l1[index:]\n",
    "l2 = secondPart + firstPart\n",
    "print(\"Modified list:\", l2)\n"
   ]
  },
  {
   "cell_type": "markdown",
   "metadata": {},
   "source": [
    "### 06) WAP to interchange the elements on two positions entered by a user."
   ]
  },
  {
   "cell_type": "code",
   "execution_count": 108,
   "metadata": {},
   "outputs": [
    {
     "name": "stdout",
     "output_type": "stream",
     "text": [
      "Enter size of list 6\n",
      "Enter elements 5\n",
      "Enter elements 9\n",
      "Enter elements 8\n",
      "Enter elements 6\n",
      "Enter elements 4\n",
      "Enter elements 7\n",
      "Enter first position index 2\n",
      "Enter second position index 5\n"
     ]
    },
    {
     "name": "stdout",
     "output_type": "stream",
     "text": [
      "[5, 9, 7, 6, 4, 8]\n"
     ]
    }
   ],
   "source": [
    "length = int(input('Enter size of list'))\n",
    "li = [int(input('Enter elements')) for i in range(length)]\n",
    "fp = int(input('Enter first position index'))\n",
    "sp = int(input('Enter second position index'))\n",
    "temp = li[fp]\n",
    "li[fp] = li[sp]\n",
    "li[sp] = temp\n",
    "print(li)"
   ]
  },
  {
   "cell_type": "markdown",
   "metadata": {},
   "source": [
    "### 07) WAP to reverse the list entered by user."
   ]
  },
  {
   "cell_type": "code",
   "execution_count": 110,
   "metadata": {},
   "outputs": [
    {
     "name": "stdout",
     "output_type": "stream",
     "text": [
      "Enter size of list 5\n",
      "Enter elements 1\n",
      "Enter elements 2\n",
      "Enter elements 3\n",
      "Enter elements 4\n",
      "Enter elements 5\n"
     ]
    },
    {
     "name": "stdout",
     "output_type": "stream",
     "text": [
      "[5, 4, 3, 2, 1]\n"
     ]
    }
   ],
   "source": [
    "length = int(input('Enter size of list'))\n",
    "li = [int(input('Enter elements')) for i in range(length)]\n",
    "print(li[::-1])"
   ]
  },
  {
   "cell_type": "markdown",
   "metadata": {},
   "source": [
    "### 08) WAP to print even numbers in a list."
   ]
  },
  {
   "cell_type": "code",
   "execution_count": 114,
   "metadata": {},
   "outputs": [
    {
     "name": "stdout",
     "output_type": "stream",
     "text": [
      "Enter size of list 10\n",
      "Enter elements 1\n",
      "Enter elements 2\n",
      "Enter elements 3\n",
      "Enter elements 4\n",
      "Enter elements 5\n",
      "Enter elements 6\n",
      "Enter elements 7\n",
      "Enter elements 8\n",
      "Enter elements 9\n",
      "Enter elements 10\n"
     ]
    },
    {
     "name": "stdout",
     "output_type": "stream",
     "text": [
      "[2, 4, 6, 8, 10]\n"
     ]
    }
   ],
   "source": [
    "length = int(input('Enter size of list'))\n",
    "li = [int(input('Enter elements')) for i in range(length)]\n",
    "evenList = []\n",
    "for i in li:\n",
    "    if i%2 == 0:\n",
    "        evenList.append(i)\n",
    "print(evenList)"
   ]
  },
  {
   "cell_type": "markdown",
   "metadata": {},
   "source": [
    "### 09) WAP to count unique items in a list."
   ]
  },
  {
   "cell_type": "code",
   "execution_count": 133,
   "metadata": {},
   "outputs": [
    {
     "name": "stdout",
     "output_type": "stream",
     "text": [
      "Enter size of list 5\n",
      "Enter elements 2\n",
      "Enter elements 3\n",
      "Enter elements 6\n",
      "Enter elements 9\n",
      "Enter elements 2\n"
     ]
    },
    {
     "name": "stdout",
     "output_type": "stream",
     "text": [
      "4\n"
     ]
    }
   ],
   "source": [
    "length = int(input('Enter size of list'))\n",
    "li = [int(input('Enter elements')) for i in range(length)]\n",
    "count = 0\n",
    "l2 = set(li)\n",
    "for i in l2:\n",
    "    count = count+1\n",
    "print(count)"
   ]
  },
  {
   "cell_type": "markdown",
   "metadata": {},
   "source": [
    "### 10) WAP to copy a list."
   ]
  },
  {
   "cell_type": "code",
   "execution_count": 141,
   "metadata": {},
   "outputs": [
    {
     "name": "stdout",
     "output_type": "stream",
     "text": [
      "Enter size of list 3\n",
      "Enter elements 5\n",
      "Enter elements 6\n",
      "Enter elements 2\n"
     ]
    },
    {
     "name": "stdout",
     "output_type": "stream",
     "text": [
      "original: [5, 6, 2]\n",
      "copied: [5, 6, 2]\n"
     ]
    }
   ],
   "source": [
    "length = int(input('Enter size of list'))\n",
    "l1 = [int(input('Enter elements')) for i in range(length)]\n",
    "l2 = l1.copy()\n",
    "print('original:',l1)\n",
    "print('copied:',l2)"
   ]
  },
  {
   "cell_type": "markdown",
   "metadata": {},
   "source": [
    "### 11) WAP to print all odd numbers in a given range."
   ]
  },
  {
   "cell_type": "code",
   "execution_count": 148,
   "metadata": {},
   "outputs": [
    {
     "name": "stdout",
     "output_type": "stream",
     "text": [
      "Enter size of list 10\n"
     ]
    },
    {
     "name": "stdout",
     "output_type": "stream",
     "text": [
      "[1, 3, 5, 7, 9]\n"
     ]
    }
   ],
   "source": [
    "length = int(input('Enter size of list'))\n",
    "oddList = []\n",
    "for i in range (1,length+1):\n",
    "    if i%2!=0:\n",
    "       oddList.append(i)\n",
    "print(oddList)"
   ]
  },
  {
   "cell_type": "markdown",
   "metadata": {},
   "source": [
    "### 12) WAP to count occurrences of an element in a list."
   ]
  },
  {
   "cell_type": "code",
   "execution_count": null,
   "metadata": {},
   "outputs": [],
   "source": [
    "length = int(input('Enter size of list'))\n",
    "l1 = [int(input('Enter elements')) for i in range(length)]\n"
   ]
  },
  {
   "cell_type": "markdown",
   "metadata": {},
   "source": [
    "### 13) WAP to find second largest number in a list."
   ]
  },
  {
   "cell_type": "code",
   "execution_count": 18,
   "metadata": {},
   "outputs": [
    {
     "name": "stdout",
     "output_type": "stream",
     "text": [
      "Enter size of list 5\n",
      "Enter elements 2\n",
      "Enter elements 3\n",
      "Enter elements 6\n",
      "Enter elements 9\n",
      "Enter elements 8\n"
     ]
    },
    {
     "name": "stdout",
     "output_type": "stream",
     "text": [
      "8\n"
     ]
    }
   ],
   "source": [
    "length = int(input('Enter size of list'))\n",
    "li = [int(input('Enter elements')) for i in range(length)]\n",
    "li.remove(max(li))\n",
    "print(max(li))"
   ]
  },
  {
   "cell_type": "markdown",
   "metadata": {},
   "source": [
    "### 14) WAP to extract elements with frequency greater than K."
   ]
  },
  {
   "cell_type": "code",
   "execution_count": null,
   "metadata": {},
   "outputs": [],
   "source": [
    "length = int(input('Enter size of list'))\n",
    "li = [int(input('Enter elements')) for i in range(length)]\n",
    "k = int(input('Enter frequency'))\n",
    "result = []\n",
    "for element in set(li):\n",
    "    re\n",
    "\n",
    "# 14) WAP to extract elements with frequency greater than K\n",
    "\n",
    "# Input list\n",
    "lst = [1, 2, 3, 2, 3, 3, 4, 5, 5, 5, 5]\n",
    "# Threshold frequency\n",
    "k = 2\n",
    "\n",
    "# Result list for elements with frequency > K\n",
    "result = []\n",
    "\n",
    "# Check each unique element in the list\n",
    "for element in set(lst):\n",
    "    # Count occurrences of the element in the list\n",
    "    count = lst.count(element)\n",
    "    # If count is greater than K, add to result\n",
    "    if count > k:\n",
    "        result.append(element)\n",
    "\n",
    "# Print the result\n",
    "print(f\"Elements with frequency greater than {k}: {result}\")\n"
   ]
  },
  {
   "cell_type": "markdown",
   "metadata": {},
   "source": [
    "### 15) WAP to create a list of squared numbers from 0 to 9 with and without using List Comprehension."
   ]
  },
  {
   "cell_type": "code",
   "execution_count": 1,
   "metadata": {},
   "outputs": [
    {
     "name": "stdout",
     "output_type": "stream",
     "text": [
      "Without comprehendtion : \n",
      "[0, 1, 4, 9, 16, 25, 36, 49, 64, 81]\n",
      "With comprehension : \n",
      "[0, 1, 4, 9, 16, 25, 36, 49, 64, 81]\n"
     ]
    }
   ],
   "source": [
    "print('Without comprehendtion : ')\n",
    "list=[]\n",
    "for i in range(0,10):\n",
    "    list.append(i*i)\n",
    "print(list)\n",
    "\n",
    "print('With comprehension : ')\n",
    "list1=[i*i for i in range(0,10)]\n",
    "print(list1)"
   ]
  },
  {
   "cell_type": "markdown",
   "metadata": {},
   "source": [
    "### 16) WAP to create a new list (fruit whose name starts with 'b') from the list of fruits given by user."
   ]
  },
  {
   "cell_type": "code",
   "execution_count": 3,
   "metadata": {},
   "outputs": [
    {
     "name": "stdout",
     "output_type": "stream",
     "text": [
      "enter size of list :  5\n",
      "enter fruit banana\n",
      "enter fruit mango\n",
      "enter fruit strawbary\n",
      "enter fruit blue berry\n",
      "enter fruit orange\n"
     ]
    },
    {
     "name": "stdout",
     "output_type": "stream",
     "text": [
      "['banana', 'mango', 'strawbary', 'blue berry', 'orange']\n",
      "['banana', 'blue berry']\n"
     ]
    }
   ],
   "source": [
    "n=int(input('enter size of list : '))\n",
    "fruits=[]\n",
    "new=[]\n",
    "for i in range(0,n):\n",
    "    i=input('enter fruit')\n",
    "    fruits.append(i)\n",
    "    if i[0]=='b':\n",
    "        new.append(i)\n",
    "print(fruits)\n",
    "print(new)"
   ]
  },
  {
   "cell_type": "markdown",
   "metadata": {},
   "source": [
    "### 17) WAP to create a list of common elements from given two lists."
   ]
  },
  {
   "cell_type": "code",
   "execution_count": 5,
   "metadata": {},
   "outputs": [
    {
     "name": "stdout",
     "output_type": "stream",
     "text": [
      "5\n",
      "6\n"
     ]
    }
   ],
   "source": [
    "l1=[1,2,3,4,5,6]\n",
    "l2=[5,6,7,8,9]\n",
    "for i in l1:\n",
    "    if i in l2:\n",
    "        print(i)"
   ]
  },
  {
   "cell_type": "code",
   "execution_count": null,
   "metadata": {},
   "outputs": [],
   "source": []
  }
 ],
 "metadata": {
  "kernelspec": {
   "display_name": "Python 3 (ipykernel)",
   "language": "python",
   "name": "python3"
  },
  "language_info": {
   "codemirror_mode": {
    "name": "ipython",
    "version": 3
   },
   "file_extension": ".py",
   "mimetype": "text/x-python",
   "name": "python",
   "nbconvert_exporter": "python",
   "pygments_lexer": "ipython3",
   "version": "3.12.7"
  }
 },
 "nbformat": 4,
 "nbformat_minor": 4
}
