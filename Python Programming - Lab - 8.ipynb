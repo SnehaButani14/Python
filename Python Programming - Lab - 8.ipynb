{
 "cells": [
  {
   "cell_type": "markdown",
   "metadata": {},
   "source": [
    "<a href='https://www.darshan.ac.in/'> <img src='https://www.darshan.ac.in/Content/media/DU_Logo.svg' width=\"250\" height=\"300\"/></a>\n",
    "<pre>\n",
    "<center><b><h1>Python Programming - 2301CS404</b></center>\n",
    "<center><b><h1>Lab - 8</b></center>     \n",
    "<pre>"
   ]
  },
  {
   "cell_type": "markdown",
   "metadata": {},
   "source": [
    "# User Defined Function"
   ]
  },
  {
   "cell_type": "markdown",
   "metadata": {},
   "source": [
    "### 01) Write a function to calculate BMI given mass and height. (BMI = mass/h**2)"
   ]
  },
  {
   "cell_type": "code",
   "execution_count": 5,
   "metadata": {},
   "outputs": [
    {
     "name": "stdout",
     "output_type": "stream",
     "text": [
      "enter a mass : 2\n",
      "enter  height : 3\n"
     ]
    },
    {
     "name": "stdout",
     "output_type": "stream",
     "text": [
      "0.2222222222222222\n"
     ]
    }
   ],
   "source": [
    "def bmi(m,h):\n",
    "    return m/(h**2)\n",
    "\n",
    "mass=int(input(\"enter a mass :\"))\n",
    "h=int(input(\"enter  height :\"))\n",
    "bmi=bmi(mass,h)\n",
    "print(bmi)"
   ]
  },
  {
   "cell_type": "markdown",
   "metadata": {},
   "source": [
    "### 02) Write a function that add first n numbers."
   ]
  },
  {
   "cell_type": "code",
   "execution_count": 9,
   "metadata": {},
   "outputs": [
    {
     "name": "stdout",
     "output_type": "stream",
     "text": [
      "enter  number : 5\n"
     ]
    },
    {
     "name": "stdout",
     "output_type": "stream",
     "text": [
      "10\n"
     ]
    }
   ],
   "source": [
    "def sum(n):\n",
    "    sum=0\n",
    "    for i in range(1,n):\n",
    "        sum=sum+i\n",
    "    return sum\n",
    "\n",
    "n=int(input(\"enter  number :\"))\n",
    "add=sum(n)\n",
    "print(add)"
   ]
  },
  {
   "cell_type": "markdown",
   "metadata": {},
   "source": [
    "### 03) Write a function that returns 1 if the given number is Prime or 0 otherwise."
   ]
  },
  {
   "cell_type": "code",
   "execution_count": 45,
   "metadata": {},
   "outputs": [
    {
     "name": "stdout",
     "output_type": "stream",
     "text": [
      "enter  number : 1\n"
     ]
    },
    {
     "name": "stdout",
     "output_type": "stream",
     "text": [
      "1\n"
     ]
    }
   ],
   "source": [
    "def chack_prime(n):\n",
    "    flge=1\n",
    "    for i in range(2,n//2+1):\n",
    "        if(n%i==0):\n",
    "            flge=0\n",
    "            break\n",
    "    return flge\n",
    "\n",
    "n=int(input(\"enter  number :\"))\n",
    "prime=chack_prime(n)\n",
    "print(prime)"
   ]
  },
  {
   "cell_type": "markdown",
   "metadata": {},
   "source": [
    "### 04) Write a function that returns the list of Prime numbers between given two numbers."
   ]
  },
  {
   "cell_type": "code",
   "execution_count": 27,
   "metadata": {},
   "outputs": [
    {
     "name": "stdout",
     "output_type": "stream",
     "text": [
      "enter start number : 1\n",
      "enter end number : 7\n"
     ]
    },
    {
     "name": "stdout",
     "output_type": "stream",
     "text": [
      "[1, 2, 3, 5]\n"
     ]
    }
   ],
   "source": [
    "def list_prime(n,m):\n",
    "    prime=[]\n",
    "    for i in range(n,m):\n",
    "        flge=1\n",
    "        for j in range(2,i//2+1):\n",
    "            if(i%j==0):\n",
    "                flge=0\n",
    "                break\n",
    "        if flge:\n",
    "            prime.append(i)\n",
    "    return prime\n",
    "\n",
    "n=int(input(\"enter start number :\"))\n",
    "m=int(input(\"enter end number :\"))\n",
    "print(list_prime(n,m))"
   ]
  },
  {
   "cell_type": "markdown",
   "metadata": {},
   "source": [
    "### 05) Write a function that returns True if the given string is Palindrome or False otherwise."
   ]
  },
  {
   "cell_type": "code",
   "execution_count": 37,
   "metadata": {},
   "outputs": [
    {
     "name": "stdout",
     "output_type": "stream",
     "text": [
      "enter a string : avc\n"
     ]
    },
    {
     "name": "stdout",
     "output_type": "stream",
     "text": [
      "False\n"
     ]
    }
   ],
   "source": [
    "def palidrome(word):\n",
    "    ans=' '\n",
    "    if(word==word[::-1]):\n",
    "        ans=True;\n",
    "    else:\n",
    "        ans=False\n",
    "    return ans\n",
    "\n",
    "word=input(\"enter a string :\")\n",
    "print(palidrome(word))"
   ]
  },
  {
   "cell_type": "markdown",
   "metadata": {},
   "source": [
    "### 06) Write a function that returns the sum of all the elements of the list."
   ]
  },
  {
   "cell_type": "code",
   "execution_count": 39,
   "metadata": {},
   "outputs": [
    {
     "name": "stdout",
     "output_type": "stream",
     "text": [
      "15\n"
     ]
    }
   ],
   "source": [
    "def add(l1):\n",
    "    sum=0;\n",
    "    for i in l1:\n",
    "        sum=sum+i\n",
    "    return sum;\n",
    "\n",
    "l1=[2,3,4,5,1]\n",
    "print(add(l1))"
   ]
  },
  {
   "cell_type": "markdown",
   "metadata": {},
   "source": [
    "### 07) Write a function to calculate the sum of the first element of each tuples inside the list."
   ]
  },
  {
   "cell_type": "code",
   "execution_count": 41,
   "metadata": {},
   "outputs": [
    {
     "name": "stdout",
     "output_type": "stream",
     "text": [
      "13\n"
     ]
    }
   ],
   "source": [
    "def listoftuple_sum(t1):\n",
    "    sum=0\n",
    "    for i in t1:\n",
    "        for j in i:\n",
    "            sum=sum+j\n",
    "            break\n",
    "    return sum;\n",
    "\n",
    "t1=[(1,2,3),(4,2,1),(1,2,3),(7,2,1)]\n",
    "print(listoftuple_sum(t1))\n",
    "        "
   ]
  },
  {
   "cell_type": "markdown",
   "metadata": {},
   "source": [
    "### 08) Write a recursive function to find nth term of Fibonacci Series."
   ]
  },
  {
   "cell_type": "code",
   "execution_count": 49,
   "metadata": {},
   "outputs": [
    {
     "name": "stdout",
     "output_type": "stream",
     "text": [
      "21\n"
     ]
    }
   ],
   "source": [
    "def fibonacci_recur(n):\n",
    "   if n<=0:\n",
    "       return 0;\n",
    "   elif n==1:\n",
    "       return 1;\n",
    "   else:\n",
    "       return fibonacci_recur(n-1)+fibonacci_recur(n-2)\n",
    "\n",
    "print(fibonacci_recur(8))\n",
    "\n"
   ]
  },
  {
   "cell_type": "markdown",
   "metadata": {},
   "source": [
    "### 09) Write a function to get the name of the student based on the given rollno.\n",
    "#### Example: Given dict1 = {101:'Ajay', 102:'Rahul', 103:'Jay', 104:'Pooja'} find name of student whose rollno = 103"
   ]
  },
  {
   "cell_type": "code",
   "execution_count": 7,
   "metadata": {},
   "outputs": [
    {
     "name": "stdout",
     "output_type": "stream",
     "text": [
      "Jay\n"
     ]
    }
   ],
   "source": [
    "def name_of_stu(roll):\n",
    "    d1={101:'Ajay', 102:'Rahul', 103:'Jay', 104:'Pooja'}\n",
    "    if roll:\n",
    "        return d1[roll]\n",
    "print(name_of_stu(103))"
   ]
  },
  {
   "cell_type": "markdown",
   "metadata": {},
   "source": [
    "### 10) Write a function to get the sum of the scores ending with zero.\n",
    "#### Example : scores = [200, 456, 300, 100, 234, 678] \n",
    "#### Ans = 200 + 300 + 100 = 600"
   ]
  },
  {
   "cell_type": "code",
   "execution_count": 11,
   "metadata": {},
   "outputs": [
    {
     "name": "stdout",
     "output_type": "stream",
     "text": [
      "600\n"
     ]
    }
   ],
   "source": [
    "def end_zero_sum(l1):\n",
    "    sum=0;\n",
    "    for i in l1:\n",
    "        digit=i%10;\n",
    "        digit=digit/10\n",
    "        if(digit == 0):\n",
    "            sum=sum+i;\n",
    "    return sum;\n",
    "\n",
    "print(end_zero_sum([200, 456, 300, 100, 234, 678]))"
   ]
  },
  {
   "cell_type": "markdown",
   "metadata": {},
   "source": [
    "### 11) Write a function to invert a given Dictionary.\n",
    "#### hint: keys to values & values to keys\n",
    "#### Before : {'a': 10, 'b':20, 'c':30, 'd':40}\n",
    "#### After : {10:'a', 20:'b', 30:'c', 40:'d'}"
   ]
  },
  {
   "cell_type": "code",
   "execution_count": 18,
   "metadata": {},
   "outputs": [
    {
     "name": "stdout",
     "output_type": "stream",
     "text": [
      "{'a': 10, 'b': 20, 'c': 30, 'd': 40}\n",
      "{10: 'a', 20: 'b', 30: 'c', 40: 'd'}\n"
     ]
    }
   ],
   "source": [
    "def invert_dictionary(input_dict):\n",
    "    keys_list = list(input_dict.keys());\n",
    "    value_list= list(input_dict.values());\n",
    "    invert_dic = {i : j for i,j in zip(value_list,keys_list)}\n",
    "    return invert_dic;\n",
    "\n",
    "d1={'a': 10, 'b':20, 'c':30, 'd':40}\n",
    "print(d1)\n",
    "print(invert_dictionary(d1))\n"
   ]
  },
  {
   "cell_type": "markdown",
   "metadata": {},
   "source": [
    "### 12) Write a function to check whether the given string is Pangram or not.\n",
    "#### hint: Pangram is a string containing all the characters a-z atlest once.\n",
    "#### \"the quick brown fox jumps over the lazy dog\" is a Pangram string."
   ]
  },
  {
   "cell_type": "code",
   "execution_count": 22,
   "metadata": {},
   "outputs": [
    {
     "name": "stdout",
     "output_type": "stream",
     "text": [
      "True\n"
     ]
    }
   ],
   "source": [
    "import string\n",
    "\n",
    "def is_pangram(input_string):\n",
    "    alphabet = set(string.ascii_lowercase)\n",
    "    input_set = set(input_string.lower())\n",
    "    return alphabet.issubset(input_set)\n",
    "\n",
    "text = \"the quick brown fox jumps over the lazy dog.\"\n",
    "print(is_pangram(text))\n"
   ]
  },
  {
   "cell_type": "markdown",
   "metadata": {},
   "source": [
    "### 13) Write a function that returns the number of uppercase and lowercase letters in the given string. \n",
    "#### example : Input : s1 = AbcDEfgh ,Ouptput : no_upper = 3, no_lower = 5"
   ]
  },
  {
   "cell_type": "code",
   "execution_count": null,
   "metadata": {},
   "outputs": [],
   "source": [
    "def count_uc_lc(str):\n",
    "    count_uc=0\n",
    "    count_lc=0\n",
    "    for i in str:\n",
    "        if i.isupper():\n",
    "            count_uc+=1\n",
    "        else:\n",
    "            count_lc+=1\n",
    "    print(f\"no_upper = {count_uc}, no_lower = {count_lc}\")\n",
    "\n",
    "count_uc_lc('AbcDEfgh')"
   ]
  },
  {
   "cell_type": "markdown",
   "metadata": {},
   "source": [
    "### 14) Write a lambda function to get smallest number from the given two numbers."
   ]
  },
  {
   "cell_type": "code",
   "execution_count": 15,
   "metadata": {},
   "outputs": [
    {
     "name": "stdout",
     "output_type": "stream",
     "text": [
      "enter number : 4\n",
      "enter number : 3\n"
     ]
    },
    {
     "name": "stdout",
     "output_type": "stream",
     "text": [
      "3\n"
     ]
    }
   ],
   "source": [
    "smallest=lambda x,y : y if(x>y) else x\n",
    "x=int(input(\"enter number :\"))\n",
    "y=int(input(\"enter number :\"))\n",
    "print(smallest(x,y))"
   ]
  },
  {
   "cell_type": "markdown",
   "metadata": {},
   "source": [
    "### 15) For the given list of names of students, extract the names having more that 7 characters. Use filter()."
   ]
  },
  {
   "cell_type": "code",
   "execution_count": 26,
   "metadata": {},
   "outputs": [
    {
     "name": "stdout",
     "output_type": "stream",
     "text": [
      "['abcdefgfi', 'kjhgfdsa']\n"
     ]
    }
   ],
   "source": [
    "def name_of_student(l1):\n",
    "    ans = list(filter(lambda x: len(x) > 7, l1))\n",
    "    return ans\n",
    "\n",
    "l1 = ['abcdefgfi', 'mnbvcx', 'kjhgfdsa']\n",
    "print(name_of_student(l1))\n"
   ]
  },
  {
   "cell_type": "markdown",
   "metadata": {},
   "source": [
    "### 16) For the given list of names of students, convert the first letter of all the names into uppercase. use map()."
   ]
  },
  {
   "cell_type": "code",
   "execution_count": 1,
   "metadata": {},
   "outputs": [
    {
     "name": "stdout",
     "output_type": "stream",
     "text": [
      "['John', 'Alice', 'Bob', 'Emma', 'Charlie']\n"
     ]
    }
   ],
   "source": [
    "\n",
    "students = [\"john\", \"alice\", \"bob\", \"emma\", \"charlie\"]\n",
    "\n",
    "capitalized_names = list(map(str.capitalize, students))\n",
    "\n",
    "\n",
    "print(capitalized_names)\n"
   ]
  },
  {
   "cell_type": "markdown",
   "metadata": {},
   "source": [
    "### 17) Write udfs to call the functions with following types of arguments:\n",
    "1. Positional Arguments\n",
    "2. Keyword Arguments\n",
    "3. Default Arguments\n",
    "4. Variable Legngth Positional(*args) & variable length Keyword Arguments (**kwargs)\n",
    "5. Keyword-Only & Positional Only Arguments"
   ]
  },
  {
   "cell_type": "code",
   "execution_count": 3,
   "metadata": {},
   "outputs": [
    {
     "name": "stdout",
     "output_type": "stream",
     "text": [
      "Hello Alice, you are 25 years old.\n",
      "Hello Bob, you are 30 years old.\n"
     ]
    }
   ],
   "source": [
    "def greet(name, age):\n",
    "    \"\"\"Function with positional arguments\"\"\"\n",
    "    return f\"Hello {name}, you are {age} years old.\"\n",
    "\n",
    "\n",
    "print(greet(\"Alice\", 25))\n",
    "\n",
    "def greet(name, age):\n",
    "    \"\"\"Function with keyword arguments\"\"\"\n",
    "    return f\"Hello {name}, you are {age} years old.\"\n",
    "\n",
    "\n",
    "print(greet(name=\"Bob\", age=30))\n"
   ]
  },
  {
   "cell_type": "code",
   "execution_count": null,
   "metadata": {},
   "outputs": [],
   "source": []
  }
 ],
 "metadata": {
  "kernelspec": {
   "display_name": "Python 3 (ipykernel)",
   "language": "python",
   "name": "python3"
  },
  "language_info": {
   "codemirror_mode": {
    "name": "ipython",
    "version": 3
   },
   "file_extension": ".py",
   "mimetype": "text/x-python",
   "name": "python",
   "nbconvert_exporter": "python",
   "pygments_lexer": "ipython3",
   "version": "3.12.7"
  }
 },
 "nbformat": 4,
 "nbformat_minor": 4
}
