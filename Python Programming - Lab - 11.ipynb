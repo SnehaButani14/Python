{
 "cells": [
  {
   "attachments": {},
   "cell_type": "markdown",
   "metadata": {},
   "source": [
    "<a href='https://www.darshan.ac.in/'> <img src='https://www.darshan.ac.in/Content/media/DU_Logo.svg' width=\"250\" height=\"300\"/></a>\n",
    "<pre>\n",
    "<center><b><h1>Python Programming - 2301CS404</b></center>\n",
    "<center><b><h1>Lab - 11</b></center>  \n",
    "<pre>"
   ]
  },
  {
   "cell_type": "markdown",
   "metadata": {},
   "source": [
    "# Modules"
   ]
  },
  {
   "cell_type": "markdown",
   "metadata": {},
   "source": [
    "### 01) WAP to pick a random character from a given String."
   ]
  },
  {
   "cell_type": "code",
   "execution_count": null,
   "metadata": {},
   "outputs": [],
   "source": [
    "a='abc'\n",
    "print('Random',random.choice(a))"
   ]
  },
  {
   "cell_type": "markdown",
   "metadata": {},
   "source": [
    "### 02) WAP to pick a random element from a given list."
   ]
  },
  {
   "cell_type": "code",
   "execution_count": null,
   "metadata": {},
   "outputs": [
    {
     "name": "stdout",
     "output_type": "stream",
     "text": [
      "30\n"
     ]
    }
   ],
   "source": [
    "li=[10,20,30]\n",
    "print(random.choice(li))\n"
   ]
  },
  {
   "cell_type": "markdown",
   "metadata": {},
   "source": [
    "### 03) WAP to roll a dice in such a way that every time you get the same number."
   ]
  },
  {
   "cell_type": "code",
   "execution_count": null,
   "metadata": {},
   "outputs": [
    {
     "name": "stdout",
     "output_type": "stream",
     "text": [
      "1\n"
     ]
    }
   ],
   "source": [
    "# li=[1,2,3,4,5,6]\n",
    "import random\n",
    "random.seed(2)\n",
    "li=random.randint(1,6)\n",
    "print(li)"
   ]
  },
  {
   "cell_type": "markdown",
   "metadata": {},
   "source": [
    "### 04) WAP to generate 3 random integers between 100 and 999 which is divisible by 5."
   ]
  },
  {
   "cell_type": "code",
   "execution_count": null,
   "metadata": {},
   "outputs": [
    {
     "name": "stdout",
     "output_type": "stream",
     "text": [
      "875\n",
      "145\n",
      "840\n"
     ]
    }
   ],
   "source": [
    "import random\n",
    "def divison():\n",
    "    print(random.randrange(100,999,5))\n",
    "randomNumbers=[ divison() for i in range(3)]\n",
    "# print(randomNumbers)"
   ]
  },
  {
   "cell_type": "markdown",
   "metadata": {},
   "source": [
    "### 05) WAP to generate 100 random lottery tickets and pick two lucky tickets from it and announce them as Winner and Runner up respectively."
   ]
  },
  {
   "cell_type": "code",
   "execution_count": null,
   "metadata": {},
   "outputs": [
    {
     "name": "stdout",
     "output_type": "stream",
     "text": [
      "2260\n",
      "2339\n",
      "2348\n",
      "2181\n",
      "2812\n",
      "1262\n",
      "2397\n",
      "2913\n",
      "1630\n",
      "2780\n",
      "1424\n",
      "2096\n",
      "2713\n",
      "2686\n",
      "1612\n",
      "1200\n",
      "1025\n",
      "2615\n",
      "2782\n",
      "1059\n",
      "1405\n",
      "1641\n",
      "1119\n",
      "1653\n",
      "2092\n",
      "1524\n",
      "2622\n",
      "2483\n",
      "2360\n",
      "1702\n",
      "2684\n",
      "1902\n",
      "1147\n",
      "1858\n",
      "1963\n",
      "2706\n",
      "2457\n",
      "1037\n",
      "1578\n",
      "2187\n",
      "2176\n",
      "1270\n",
      "1434\n",
      "1308\n",
      "1332\n",
      "2242\n",
      "2579\n",
      "1769\n",
      "2476\n",
      "1132\n",
      "2296\n",
      "2204\n",
      "1915\n",
      "2872\n",
      "1571\n",
      "2321\n",
      "1168\n",
      "2014\n",
      "1980\n",
      "2640\n",
      "2614\n",
      "2875\n",
      "1486\n",
      "1309\n",
      "2156\n",
      "1612\n",
      "2738\n",
      "2975\n",
      "2753\n",
      "2896\n",
      "1465\n",
      "1415\n",
      "2266\n",
      "2441\n",
      "2889\n",
      "2790\n",
      "1685\n",
      "2211\n",
      "2261\n",
      "2438\n",
      "1802\n",
      "2073\n",
      "1833\n",
      "1480\n",
      "2319\n",
      "1436\n",
      "2149\n",
      "1126\n",
      "1535\n",
      "2363\n",
      "1510\n",
      "1283\n",
      "2931\n",
      "2272\n",
      "2499\n",
      "1801\n",
      "2688\n",
      "1893\n",
      "1244\n",
      "2987\n",
      "------------\n"
     ]
    }
   ],
   "source": [
    "def lotterytickets():\n",
    "    print(random.randrange(1000,3000))\n",
    "randomTickets=[lotterytickets() for i in range(100)]\n",
    "# print(randomTickets)\n",
    "winner=random.choice(randomTickets)\n",
    "runner_up=random.choice(randomTickets)\n",
    "print('------------')\n",
    "# print('winner',winner)\n",
    "# print('runnerUp',runner_up)"
   ]
  },
  {
   "cell_type": "markdown",
   "metadata": {},
   "source": [
    "### 06) WAP to print current date and time in Python."
   ]
  },
  {
   "cell_type": "code",
   "execution_count": null,
   "metadata": {},
   "outputs": [],
   "source": [
    "import datetime\n",
    "print(datetime.datetime.now())"
   ]
  },
  {
   "cell_type": "markdown",
   "metadata": {},
   "source": [
    "### 07) Subtract a week (7 days) from a given date in Python."
   ]
  },
  {
   "cell_type": "code",
   "execution_count": null,
   "metadata": {},
   "outputs": [
    {
     "name": "stdout",
     "output_type": "stream",
     "text": [
      "After 7 day date: 2025-02-05 13:06:18.305302\n"
     ]
    }
   ],
   "source": [
    "import datetime\n",
    "today=datetime.datetime.now()\n",
    "df2=today-datetime.timedelta(days=7)\n",
    "print(\"After 7 day date:\",df2)"
   ]
  },
  {
   "cell_type": "markdown",
   "metadata": {},
   "source": [
    "### 08) WAP to Calculate number of days between two given dates."
   ]
  },
  {
   "cell_type": "code",
   "execution_count": null,
   "metadata": {},
   "outputs": [
    {
     "name": "stdout",
     "output_type": "stream",
     "text": [
      "After day date: 7 days, 0:00:00\n"
     ]
    }
   ],
   "source": [
    "import datetime\n",
    "df1=datetime.datetime.now()\n",
    "df2=df1-datetime.timedelta(days=7)\n",
    "df=df1-df2\n",
    "print(\"After day date:\",df)"
   ]
  },
  {
   "cell_type": "markdown",
   "metadata": {},
   "source": [
    "### 9) WAP to Find the day of the week of a given date.(i.e. wether it is sunday/monday/tuesday/etc.)"
   ]
  },
  {
   "cell_type": "code",
   "execution_count": null,
   "metadata": {},
   "outputs": [
    {
     "name": "stdout",
     "output_type": "stream",
     "text": [
      "Wednesday\n"
     ]
    }
   ],
   "source": [
    "date_s=\"2025-2-12\"\n",
    "ans=datetime.datetime.strptime(date_s,\"%Y-%m-%d\")\n",
    "day_of_week = ans.strftime(\"%A\")\n",
    "print(day_of_week)"
   ]
  },
  {
   "cell_type": "markdown",
   "metadata": {},
   "source": [
    "### 10) WAP to demonstrate the use of date time module."
   ]
  },
  {
   "cell_type": "code",
   "execution_count": null,
   "metadata": {},
   "outputs": [
    {
     "name": "stdout",
     "output_type": "stream",
     "text": [
      "2025-02-12\n"
     ]
    }
   ],
   "source": [
    "import datetime\n",
    "d=datetime.date.today()\n",
    "print(d)"
   ]
  },
  {
   "cell_type": "markdown",
   "metadata": {},
   "source": [
    "### 11) WAP to demonstrate the use of the math module."
   ]
  },
  {
   "cell_type": "code",
   "execution_count": null,
   "metadata": {},
   "outputs": [
    {
     "name": "stdout",
     "output_type": "stream",
     "text": [
      "2.718281828459045\n",
      "3.141592653589793\n",
      "6.283185307179586\n",
      "inf\n",
      "nan\n"
     ]
    }
   ],
   "source": [
    "import math\n",
    "print(math.e)\n",
    "print(math.pi)\n",
    "print(math.tau)\n",
    "print(math.inf)\n",
    "print(math.nan)"
   ]
  },
  {
   "cell_type": "code",
   "execution_count": null,
   "metadata": {},
   "outputs": [],
   "source": []
  }
 ],
 "metadata": {
  "kernelspec": {
   "display_name": "Python 3 (ipykernel)",
   "language": "python",
   "name": "python3"
  },
  "language_info": {
   "codemirror_mode": {
    "name": "ipython",
    "version": 3
   },
   "file_extension": ".py",
   "mimetype": "text/x-python",
   "name": "python",
   "nbconvert_exporter": "python",
   "pygments_lexer": "ipython3",
   "version": "3.12.7"
  }
 },
 "nbformat": 4,
 "nbformat_minor": 4
}
