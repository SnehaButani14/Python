{
 "cells": [
  {
   "cell_type": "markdown",
   "metadata": {},
   "source": [
    "\n",
    "<a href='https://www.darshan.ac.in/'> <img src='https://www.darshan.ac.in/Content/media/DU_Logo.svg' width=\"250\" height=\"300\"/></a>\n",
    "<pre>\n",
    "<center><b><h1>Python Programming - 2301CS404</b></center>\n",
    "<center><b><h1>Lab - 2</b></center>  \n",
    "<pre>"
   ]
  },
  {
   "cell_type": "markdown",
   "metadata": {},
   "source": [
    "# if..else.."
   ]
  },
  {
   "cell_type": "markdown",
   "metadata": {},
   "source": [
    "### 01) WAP to check whether the given number is positive or negative."
   ]
  },
  {
   "cell_type": "code",
   "execution_count": 1,
   "metadata": {},
   "outputs": [
    {
     "name": "stdout",
     "output_type": "stream",
     "text": [
      "Enter number:  -5\n"
     ]
    },
    {
     "name": "stdout",
     "output_type": "stream",
     "text": [
      "number is nagative\n"
     ]
    }
   ],
   "source": [
    "n = int(input('Enter number: '))\n",
    "if (n>0):\n",
    "    print('number is positive')\n",
    "else:\n",
    "    print('number is nagative')\n",
    "          "
   ]
  },
  {
   "cell_type": "markdown",
   "metadata": {},
   "source": [
    "### 02) WAP to check whether the given number is odd or even."
   ]
  },
  {
   "cell_type": "code",
   "execution_count": 3,
   "metadata": {},
   "outputs": [
    {
     "name": "stdout",
     "output_type": "stream",
     "text": [
      "Enter number:  2\n"
     ]
    },
    {
     "name": "stdout",
     "output_type": "stream",
     "text": [
      "number is even\n"
     ]
    }
   ],
   "source": [
    "n = int(input('Enter number: '))\n",
    "if (n%2==0):\n",
    "    print('number is even')\n",
    "else:\n",
    "    print('number is odd')"
   ]
  },
  {
   "cell_type": "markdown",
   "metadata": {},
   "source": [
    "### 03) WAP to find out largest number from given two numbers using simple if and ternary operator."
   ]
  },
  {
   "cell_type": "code",
   "execution_count": 41,
   "metadata": {},
   "outputs": [
    {
     "name": "stdout",
     "output_type": "stream",
     "text": [
      "Enter first number:  5\n",
      "Enter second number:  6\n"
     ]
    },
    {
     "name": "stdout",
     "output_type": "stream",
     "text": [
      "6 is largest\n",
      "6 is largest no\n"
     ]
    }
   ],
   "source": [
    "a = int(input('Enter first number: '))\n",
    "b = int(input('Enter second number: '))\n",
    "if (a>b):\n",
    "    print(a,'is largest')\n",
    "else:\n",
    "    print(b,'is largest')\n",
    "\n",
    "#ternary operator\n",
    "print((a if(a>b) else b ),'is largest number')"
   ]
  },
  {
   "cell_type": "markdown",
   "metadata": {},
   "source": [
    "### 04) WAP to find out largest number from given three numbers."
   ]
  },
  {
   "cell_type": "code",
   "execution_count": 9,
   "metadata": {},
   "outputs": [
    {
     "name": "stdout",
     "output_type": "stream",
     "text": [
      "Enter first number:  14\n",
      "Enter second number:  8\n",
      "Enter third number:  0\n"
     ]
    },
    {
     "name": "stdout",
     "output_type": "stream",
     "text": [
      "14 is largest\n"
     ]
    }
   ],
   "source": [
    "a = int(input('Enter first number: '))\n",
    "b = int(input('Enter second number: '))\n",
    "c = int(input('Enter third number: '))\n",
    "if (a>b):\n",
    "    if(a>c):\n",
    "        print(a,'is largest')\n",
    "    else:\n",
    "        print(c,'is largest')\n",
    "else:\n",
    "    if(b>c):\n",
    "        print(b,'is largest')\n",
    "    else:\n",
    "        print(c,'is largest')\n",
    "        \n",
    "        \n",
    "        "
   ]
  },
  {
   "cell_type": "markdown",
   "metadata": {},
   "source": [
    "### 05) WAP to check whether the given year is leap year or not.\n",
    "[If a year can be divisible by 4 but not divisible by 100 then it is leap year but if it is divisible by 400 then it is leap year]"
   ]
  },
  {
   "cell_type": "code",
   "execution_count": 62,
   "metadata": {},
   "outputs": [
    {
     "name": "stdout",
     "output_type": "stream",
     "text": [
      "Enter year:  2023\n"
     ]
    },
    {
     "name": "stdout",
     "output_type": "stream",
     "text": [
      "2023 is not leap year\n"
     ]
    }
   ],
   "source": [
    "year = int(input('Enter year: '))\n",
    "if(year%4==0 and year%100!=0 and year%400==0):\n",
    "    print(year,'is leap year')\n",
    "else:\n",
    "    print(year,'is not leap year')\n",
    "    \n"
   ]
  },
  {
   "cell_type": "markdown",
   "metadata": {},
   "source": [
    "### 06) WAP in python to display the name of the day according to the number given by the user."
   ]
  },
  {
   "cell_type": "code",
   "execution_count": 89,
   "metadata": {},
   "outputs": [
    {
     "name": "stdout",
     "output_type": "stream",
     "text": [
      "Enter number:  5\n"
     ]
    },
    {
     "name": "stdout",
     "output_type": "stream",
     "text": [
      "Friday\n"
     ]
    }
   ],
   "source": [
    "n = int(input('Enter number: '))\n",
    "match (n):\n",
    "    case 1:\n",
    "        print('Monday')\n",
    "    case 2:\n",
    "        print('Tuesday')\n",
    "    case 3:\n",
    "        print('Wednesday')\n",
    "    case 4:\n",
    "        print('Thursday')\n",
    "    case 5:\n",
    "        print('Friday')\n",
    "    case 6:\n",
    "        print('Saturday')\n",
    "    case 7:\n",
    "        print('Sunday')\n"
   ]
  },
  {
   "cell_type": "markdown",
   "metadata": {},
   "source": [
    "### 07) WAP to implement simple calculator which performs (add,sub,mul,div) of two no. based on user input."
   ]
  },
  {
   "cell_type": "code",
   "execution_count": 93,
   "metadata": {},
   "outputs": [
    {
     "name": "stdout",
     "output_type": "stream",
     "text": [
      "Enter number:  5\n",
      "Enter number:  6\n",
      "Enetr operator:  +\n"
     ]
    },
    {
     "name": "stdout",
     "output_type": "stream",
     "text": [
      "11\n"
     ]
    }
   ],
   "source": [
    "a = int(input('Enter number: '))\n",
    "b = int(input('Enter number: '))\n",
    "operator = input('Enetr operator: ')\n",
    "match operator:\n",
    "    case '+':\n",
    "        print(a+b)\n",
    "    case '-':\n",
    "        print(a-b)\n",
    "    case '*':\n",
    "        print(a*b)\n",
    "    case '/':\n",
    "        print(a/b)\n",
    "    case _:\n",
    "        print('Enter valid operator')"
   ]
  },
  {
   "cell_type": "markdown",
   "metadata": {},
   "source": [
    "### 08) WAP to read marks of five subjects. Calculate percentage and print class accordingly. \n",
    "Fail below 35 </br>\n",
    "Pass Class between 35 to 45 </br>\n",
    "Second Class</br>\n",
    "between 45 to 60</br>\n",
    "First Class between 60 to 70</br> \n",
    "Distinction if more than 70"
   ]
  },
  {
   "cell_type": "code",
   "execution_count": 74,
   "metadata": {},
   "outputs": [
    {
     "name": "stdout",
     "output_type": "stream",
     "text": [
      "Enter marks of sub 1:   60\n",
      "Enter marks of sub 2:  90\n",
      "Enter marks of sub 3:  50\n",
      "Enter marks of sub 4:  60\n",
      "Enter marks of sub 5:  100\n"
     ]
    },
    {
     "name": "stdout",
     "output_type": "stream",
     "text": [
      "72.0\n",
      "distinction\n"
     ]
    }
   ],
   "source": [
    "m1 = int(input('Enter marks of sub 1:  '))\n",
    "m2 = int(input('Enter marks of sub 2: '))\n",
    "m3 = int(input('Enter marks of sub 3: '))\n",
    "m4 = int(input('Enter marks of sub 4: '))\n",
    "m5 = int(input('Enter marks of sub 5: '))\n",
    "per = (m1+m2+m3+m4+m5)/5\n",
    "print(per)\n",
    "if(per<35):\n",
    "    print('fail')\n",
    "elif(per>35 and per<45):\n",
    "    print('pass')\n",
    "elif(per>45 and per<60):\n",
    "    print('second class')\n",
    "elif(per>60 and per<70):\n",
    "    print('first class')\n",
    "elif(per>70):\n",
    "    print('distinction')"
   ]
  },
  {
   "cell_type": "markdown",
   "metadata": {},
   "source": [
    "### 09) Three sides of a triangle are entered through the keyboard, WAP to check whether the triangle is isosceles, equilateral, scalene or right-angled triangle."
   ]
  },
  {
   "cell_type": "code",
   "execution_count": 16,
   "metadata": {},
   "outputs": [
    {
     "name": "stdout",
     "output_type": "stream",
     "text": [
      "Enter side 1 :  3\n",
      "Enter side 2 :  4\n",
      "Enter side 3 :  5\n"
     ]
    },
    {
     "name": "stdout",
     "output_type": "stream",
     "text": [
      "Right-angled triangle\n",
      "scalene triangle\n"
     ]
    }
   ],
   "source": [
    "l1=float(input(\"Enter side 1 : \"))\n",
    "l2=float(input(\"Enter side 2 : \"))\n",
    "l3=float(input(\"Enter side 3 : \"))\n",
    "if(l1+l2>l3 and l2+l3>l1 and l1+l3>l1):\n",
    "    if(l1==l2 and l2==l3):\n",
    "        print(\"Equilateral trianle\")\n",
    "    if(l1==l2 or l1==l3):\n",
    "        print(\"isosceles triangle\")\n",
    "    if((l1*l1 == l2*l2 + l3*l3) or (l2*l2 == l1*l1 + l3*l3) or (l3*l3 == l1*l1 + l2*l2)):\n",
    "        print(\"Right-angled triangle\")\n",
    "    if(l1!=l2!=l3):\n",
    "        print(\"scalene triangle\")\n",
    "else:\n",
    "    print('Triangle not possible')"
   ]
  },
  {
   "cell_type": "markdown",
   "metadata": {},
   "source": [
    "### 10) WAP to find the second largest number among three user input numbers."
   ]
  },
  {
   "cell_type": "code",
   "execution_count": 32,
   "metadata": {},
   "outputs": [
    {
     "name": "stdout",
     "output_type": "stream",
     "text": [
      "Enter first number:  6\n",
      "Enter second number:  9\n",
      "Enter third number:  2\n"
     ]
    },
    {
     "name": "stdout",
     "output_type": "stream",
     "text": [
      "6 is second largest\n"
     ]
    }
   ],
   "source": [
    "a = int(input('Enter first number: '))\n",
    "b = int(input('Enter second number: '))\n",
    "c = int(input('Enter third number: '))\n",
    "if a>b:\n",
    "    if (b>c):\n",
    "        print(b,'is second largest')\n",
    "    else:\n",
    "        if c>a:\n",
    "            print(a,'is second largest')\n",
    "        else:\n",
    "            print(c,'is second largest')\n",
    "elif b>a:\n",
    "    if a>c: \n",
    "        print(a,'is second largest')\n",
    "    else:\n",
    "        if c>b:\n",
    "            print(b,'is second largest')\n",
    "        else:\n",
    "            print(c, 'is second largest')"
   ]
  },
  {
   "cell_type": "markdown",
   "metadata": {},
   "source": [
    "### 11) WAP to calculate electricity bill based on following criteria. Which takes the unit from the user.\n",
    "a. First 1 to 50 units – Rs. 2.60/unit</br>\n",
    "b. Next 50 to 100 units – Rs. 3.25/unit</br>\n",
    "c. Next 100 to 200 units – Rs. 5.26/unit</br>\n",
    "d. above 200 units – Rs. 8.45/unit"
   ]
  },
  {
   "cell_type": "code",
   "execution_count": 2,
   "metadata": {},
   "outputs": [
    {
     "name": "stdout",
     "output_type": "stream",
     "text": [
      "enter units:  456\n"
     ]
    },
    {
     "name": "stdout",
     "output_type": "stream",
     "text": [
      "3853.2\n"
     ]
    }
   ],
   "source": [
    "unit = float(input('enter units: '))\n",
    "if unit>=1 and unit<50:\n",
    "    bill = 2.60*unit\n",
    "elif unit>=50 and unit<100:\n",
    "    bill = 3.25*unit\n",
    "elif unit>=100 and unit<200:\n",
    "    bill = 5.26*unit\n",
    "elif unit>=200:\n",
    "    bill = 8.45*unit\n",
    "print(bill)"
   ]
  },
  {
   "cell_type": "code",
   "execution_count": null,
   "metadata": {},
   "outputs": [],
   "source": []
  }
 ],
 "metadata": {
  "kernelspec": {
   "display_name": "Python 3 (ipykernel)",
   "language": "python",
   "name": "python3"
  },
  "language_info": {
   "codemirror_mode": {
    "name": "ipython",
    "version": 3
   },
   "file_extension": ".py",
   "mimetype": "text/x-python",
   "name": "python",
   "nbconvert_exporter": "python",
   "pygments_lexer": "ipython3",
   "version": "3.12.7"
  }
 },
 "nbformat": 4,
 "nbformat_minor": 4
}
