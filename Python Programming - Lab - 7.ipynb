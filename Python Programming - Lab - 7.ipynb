{
 "cells": [
  {
   "cell_type": "markdown",
   "metadata": {},
   "source": [
    "<a href='https://www.darshan.ac.in/'> <img src='https://www.darshan.ac.in/Content/media/DU_Logo.svg' width=\"250\" height=\"300\"/></a>\n",
    "<pre>\n",
    "<center><b><h1>Python Programming - 2301CS404</b></center>\n",
    "<center><b><h1>Lab - 7</b></center>    \n",
    "<pre>"
   ]
  },
  {
   "cell_type": "markdown",
   "metadata": {},
   "source": [
    "# Set & Dictionary"
   ]
  },
  {
   "cell_type": "markdown",
   "metadata": {},
   "source": [
    "### 01) WAP to iterate over a set."
   ]
  },
  {
   "cell_type": "code",
   "execution_count": 3,
   "metadata": {},
   "outputs": [
    {
     "name": "stdout",
     "output_type": "stream",
     "text": [
      "1\n",
      "5\n",
      "7\n",
      "9\n",
      "10\n"
     ]
    }
   ],
   "source": [
    "s = {1,5,7,9,10}\n",
    "for i in s:\n",
    "    print(i)"
   ]
  },
  {
   "cell_type": "markdown",
   "metadata": {},
   "source": [
    "### 02) WAP to convert set into list, string and tuple."
   ]
  },
  {
   "cell_type": "code",
   "execution_count": 11,
   "metadata": {},
   "outputs": [
    {
     "name": "stdout",
     "output_type": "stream",
     "text": [
      "Enter length 5\n",
      "Enter element 2\n",
      "Enter element 3\n",
      "Enter element 6\n",
      "Enter element 5\n",
      "Enter element 3\n"
     ]
    },
    {
     "name": "stdout",
     "output_type": "stream",
     "text": [
      "list [2, 3, 5, 6] tuple (2, 3, 5, 6) string \n"
     ]
    }
   ],
   "source": [
    "length = int(input('Enter length'))\n",
    "s = {int(input('Enter element')) for i in range(length)}\n",
    "l = list(s)\n",
    "t = tuple(s)\n",
    "str = \n",
    "print('list',l,'tuple',t,'string',s)"
   ]
  },
  {
   "cell_type": "markdown",
   "metadata": {},
   "source": [
    "### 03) WAP to find Maximum and Minimum from a set."
   ]
  },
  {
   "cell_type": "code",
   "execution_count": 15,
   "metadata": {},
   "outputs": [
    {
     "name": "stdout",
     "output_type": "stream",
     "text": [
      "Enter length 3\n",
      "Enter element 1\n",
      "Enter element 2\n",
      "Enter element 3\n"
     ]
    },
    {
     "name": "stdout",
     "output_type": "stream",
     "text": [
      "max: 3\n",
      "min: 1\n"
     ]
    }
   ],
   "source": [
    "length = int(input('Enter length'))\n",
    "s = {int(input('Enter element')) for i in range(length)}\n",
    "print('max:',max(s))\n",
    "print('min:',min(s))"
   ]
  },
  {
   "cell_type": "markdown",
   "metadata": {},
   "source": [
    "### 04) WAP to perform union of two sets."
   ]
  },
  {
   "cell_type": "code",
   "execution_count": 17,
   "metadata": {},
   "outputs": [
    {
     "name": "stdout",
     "output_type": "stream",
     "text": [
      "{1, 2, 5, 7, 8, 9}\n"
     ]
    }
   ],
   "source": [
    "s1 = {1,5,7,8,9}\n",
    "s2 = {2,5,7}\n",
    "print(s1.union(s2))"
   ]
  },
  {
   "cell_type": "markdown",
   "metadata": {},
   "source": [
    "### 05) WAP to check if two lists have at-least one element common."
   ]
  },
  {
   "cell_type": "code",
   "execution_count": 76,
   "metadata": {},
   "outputs": [
    {
     "name": "stdout",
     "output_type": "stream",
     "text": [
      "valid\n"
     ]
    }
   ],
   "source": [
    "s1 = {1,5,7,8,9}\n",
    "s2 = {2,4,5,6}\n",
    "s3 = s1.intersection(s2)\n",
    "if s3==set():\n",
    "    print('invalid')\n",
    "else:\n",
    "    print('valid')"
   ]
  },
  {
   "cell_type": "markdown",
   "metadata": {},
   "source": [
    "### 06) WAP to remove duplicates from list."
   ]
  },
  {
   "cell_type": "code",
   "execution_count": 19,
   "metadata": {},
   "outputs": [
    {
     "name": "stdout",
     "output_type": "stream",
     "text": [
      "[3, 4, 5, 6, 7, 8, 9, 10, 11, 15]\n"
     ]
    }
   ],
   "source": [
    "l1 = [5,6,7,7,8,9,10,11,11,15,4,4,3]\n",
    "s1 = set(l1)\n",
    "l1 = list(s1)\n",
    "print(l1)"
   ]
  },
  {
   "cell_type": "markdown",
   "metadata": {},
   "source": [
    "### 07) WAP to find unique words in the given string."
   ]
  },
  {
   "cell_type": "code",
   "execution_count": 30,
   "metadata": {},
   "outputs": [
    {
     "name": "stdout",
     "output_type": "stream",
     "text": [
      "{'Hello', 'you', 'hi', 'are', 'how', 'fine'}\n"
     ]
    }
   ],
   "source": [
    "s1 = ('Hello hi how are you are you fine')\n",
    "words = s1.split(' ')\n",
    "s = set(words)\n",
    "print(s)"
   ]
  },
  {
   "cell_type": "markdown",
   "metadata": {},
   "source": [
    "### 08) WAP to remove common elements of set A & B from set A."
   ]
  },
  {
   "cell_type": "code",
   "execution_count": 32,
   "metadata": {},
   "outputs": [
    {
     "name": "stdout",
     "output_type": "stream",
     "text": [
      "{8, 1, 9}\n"
     ]
    }
   ],
   "source": [
    "s1 = {1,5,7,8,9}\n",
    "s2 = {2,5,7}\n",
    "print(s1.difference(s2))"
   ]
  },
  {
   "cell_type": "markdown",
   "metadata": {},
   "source": [
    "### 09) WAP to check whether two given strings are anagram or not using set."
   ]
  },
  {
   "cell_type": "code",
   "execution_count": 158,
   "metadata": {},
   "outputs": [
    {
     "name": "stdout",
     "output_type": "stream",
     "text": [
      "String is not anagram\n"
     ]
    }
   ],
   "source": [
    "str1 = 'sneha'\n",
    "str2 = 'neshaa'\n",
    "s2 = set(str1)\n",
    "s2 = set(str2)\n",
    "s3 = s1.symmetric_difference(s2)\n",
    "\n",
    "if s3==set() and len(str1)==len(str2):\n",
    "    print('String is anagram')\n",
    "else:\n",
    "    print('String is not anagram')"
   ]
  },
  {
   "cell_type": "markdown",
   "metadata": {},
   "source": [
    "### 10) WAP to find common elements in three lists using set."
   ]
  },
  {
   "cell_type": "code",
   "execution_count": 126,
   "metadata": {},
   "outputs": [
    {
     "name": "stdout",
     "output_type": "stream",
     "text": [
      "{5, 7}\n"
     ]
    }
   ],
   "source": [
    "s1 = {1,5,7,8,9}\n",
    "s2 = {2,5,7,10}\n",
    "s3 = {2,5,8,7,6}\n",
    "s1 = s1.intersection(s2)\n",
    "s1 = s1.intersection(s2)\n",
    "print(s1)"
   ]
  },
  {
   "cell_type": "markdown",
   "metadata": {},
   "source": [
    "### 11) WAP to count number of vowels in given string using set."
   ]
  },
  {
   "cell_type": "code",
   "execution_count": 177,
   "metadata": {},
   "outputs": [
    {
     "name": "stdout",
     "output_type": "stream",
     "text": [
      "4\n"
     ]
    }
   ],
   "source": [
    "s = 'snehaaa'\n",
    "s1 = list(s)\n",
    "count = 0\n",
    "for i in s1:\n",
    "    if i in 'aeiou':\n",
    "        count= count+1\n",
    "print(count)"
   ]
  },
  {
   "cell_type": "markdown",
   "metadata": {},
   "source": [
    "### 12) WAP to check if a given string is binary string or not."
   ]
  },
  {
   "cell_type": "code",
   "execution_count": 169,
   "metadata": {},
   "outputs": [
    {
     "name": "stdout",
     "output_type": "stream",
     "text": [
      "valid\n"
     ]
    }
   ],
   "source": [
    "s = '1011010'\n",
    "s1 = set(s)\n",
    "for i in s1:\n",
    "    if i not in{'0','1'}:\n",
    "        print('invalid')\n",
    "        break\n",
    "else:\n",
    "    print('valid')"
   ]
  },
  {
   "cell_type": "markdown",
   "metadata": {},
   "source": [
    "### 13) WAP to sort dictionary by key or value."
   ]
  },
  {
   "cell_type": "code",
   "execution_count": 185,
   "metadata": {},
   "outputs": [
    {
     "name": "stdout",
     "output_type": "stream",
     "text": [
      "[1, 2, 3]\n"
     ]
    }
   ],
   "source": [
    "d1 = {3:'A',1:'B',2:'C'}\n",
    "l1=[]\n",
    "for i in d1:\n",
    "    l1.append(i)\n",
    "l1.sort()\n",
    "print(l1)    "
   ]
  },
  {
   "cell_type": "markdown",
   "metadata": {},
   "source": [
    "### 14) WAP to find the sum of all items (values) in a dictionary given by user. (Assume: values are numeric)"
   ]
  },
  {
   "cell_type": "code",
   "execution_count": 3,
   "metadata": {},
   "outputs": [
    {
     "name": "stdout",
     "output_type": "stream",
     "text": [
      "Enter size of dictionary :  5\n",
      "enter keys :  1\n",
      "enter value :  2\n",
      "enter keys :  3\n",
      "enter value :  4\n",
      "enter keys :  5\n",
      "enter value :  6\n",
      "enter keys :  7\n",
      "enter value :  8\n",
      "enter keys :  9\n",
      "enter value :  10\n"
     ]
    },
    {
     "name": "stdout",
     "output_type": "stream",
     "text": [
      "dictionary is :  {'1': 2, '3': 4, '5': 6, '7': 8, '9': 10}\n",
      "Sum of values :  30\n"
     ]
    }
   ],
   "source": [
    "dict1={}\n",
    "sum1=0\n",
    "n=int(input('Enter size of dictionary : '))\n",
    "for _ in range(n):\n",
    "    key=input('enter keys : ')\n",
    "    value=int(input('enter value : '))\n",
    "    dict1[key]=value\n",
    "    sum1+=value\n",
    "print('dictionary is : ',dict1)\n",
    "print('Sum of values : ',sum1)"
   ]
  },
  {
   "cell_type": "markdown",
   "metadata": {},
   "source": [
    "### 15) WAP to handle missing keys in dictionaries.\n",
    "#### Example : Given, dict1 = {'a': 5, 'c': 8, 'e': 2} \n",
    "#### if you look for key = 'd', the message given should be 'Key Not Found', otherwise print the value of 'd' in dict1."
   ]
  },
  {
   "cell_type": "code",
   "execution_count": 7,
   "metadata": {},
   "outputs": [
    {
     "name": "stdout",
     "output_type": "stream",
     "text": [
      "Enter key :  d\n"
     ]
    },
    {
     "name": "stdout",
     "output_type": "stream",
     "text": [
      "KEY NOT FOUND\n"
     ]
    }
   ],
   "source": [
    "dict2={'a':1,'b':2,'c':3,'e':4,'h':5}\n",
    "k=input('Enter key : ')\n",
    "if(k in dict2.keys()):\n",
    "    print('Values of key is : ',dict2.get(k))\n",
    "else:\n",
    "    print('KEY NOT FOUND')"
   ]
  },
  {
   "cell_type": "code",
   "execution_count": 1,
   "metadata": {},
   "outputs": [
    {
     "data": {
      "text/plain": [
       "dict_items([('name', 'Ajay'), ('rollno', 102), ('spi', 8.9), ('fname', 'Ajay')])"
      ]
     },
     "execution_count": 1,
     "metadata": {},
     "output_type": "execute_result"
    }
   ],
   "source": [
    "d2 = {'name': 'Ajay', 'rollno': 102, 'spi': 8.9, 'fname': 'Ajay'}\n",
    "d2.items()"
   ]
  },
  {
   "cell_type": "code",
   "execution_count": null,
   "metadata": {},
   "outputs": [],
   "source": []
  }
 ],
 "metadata": {
  "kernelspec": {
   "display_name": "Python 3 (ipykernel)",
   "language": "python",
   "name": "python3"
  },
  "language_info": {
   "codemirror_mode": {
    "name": "ipython",
    "version": 3
   },
   "file_extension": ".py",
   "mimetype": "text/x-python",
   "name": "python",
   "nbconvert_exporter": "python",
   "pygments_lexer": "ipython3",
   "version": "3.12.7"
  }
 },
 "nbformat": 4,
 "nbformat_minor": 4
}
